{
 "cells": [
  {
   "cell_type": "markdown",
   "metadata": {
    "graffitiCellId": "id_m2e34is"
   },
   "source": [
    "## Problem Statement\n",
    "\n",
    "Given arrival and departure times of trains on a single day in a railway platform, find out the minimum number of platforms required so that no train has to wait for the other(s) to leave. \n",
    "\n",
    "You will be given arrival and departure times in the form of a list.\n",
    "\n",
    "Note: Time `hh:mm` would be written as integer `hhmm` for e.g. `9:30` would be written as `930`. Similarly, `13:45` would be given as `1345`"
   ]
  },
  {
   "cell_type": "code",
   "execution_count": 5,
   "metadata": {
    "graffitiCellId": "id_wvs8xy1"
   },
   "outputs": [],
   "source": [
    "def min_platforms_1(arrival, departure):\n",
    "    \"\"\"\n",
    "    :param: arrival - list of arrival time\n",
    "    :param: departure - list of departure time\n",
    "    TODO - complete this method and return the minimum number of platforms (int) required\n",
    "    so that no train has to wait for other(s) to leave\n",
    "    \"\"\"\n",
    "    # this is the brute force way for each train arrival count the number\n",
    "    # of other trains that would be at the station\n",
    "    \n",
    "    min_platforms = 0\n",
    "    for i in range(len(arrival)):\n",
    "        trains_in_station = 0\n",
    "        for j in range(len(arrival)):\n",
    "            if i != j:\n",
    "                if arrival[j] < arrival[i] < departure[j]:\n",
    "                    trains_in_station += 1\n",
    "        if trains_in_station + 1 > min_platforms:\n",
    "            min_platforms = trains_in_station + 1\n",
    "    return min_platforms\n",
    "\n",
    "def min_platforms(arrival, departure):\n",
    "    # we can sort the lists and \n",
    "    # increment every time there is a new arrival before the next departure\n",
    "    # decrement when there is a departure before the next arrival\n",
    "    \n",
    "    # sort our list\n",
    "    arrival.sort()\n",
    "    departure.sort()\n",
    "    \n",
    "    # start with one train already arrived\n",
    "    a_i = 1\n",
    "    d_i = 0\n",
    "    trains = 1\n",
    "    platforms_needed = 1\n",
    "    while a_i < len(arrival) and d_i < len(departure):\n",
    "        if arrival[a_i] < departure[d_i]:\n",
    "            # a train arrives\n",
    "            trains += 1\n",
    "            if trains > platforms_needed:\n",
    "                platforms_needed = trains\n",
    "            a_i += 1\n",
    "        else:\n",
    "            # a train departs\n",
    "            trains -= 1\n",
    "            d_i += 1\n",
    "    return platforms_needed\n",
    "            "
   ]
  },
  {
   "cell_type": "markdown",
   "metadata": {
    "graffitiCellId": "id_khuho24"
   },
   "source": [
    "<span class=\"graffiti-highlight graffiti-id_khuho24-id_mgzo0p4\"><i></i><button>Hide Solution</button></span>"
   ]
  },
  {
   "cell_type": "code",
   "execution_count": 3,
   "metadata": {
    "graffitiCellId": "id_mgzo0p4"
   },
   "outputs": [],
   "source": [
    "def min_platforms(arrival, departure):\n",
    "    arrival.sort()\n",
    "    departure.sort()\n",
    "\n",
    "    platform_count = 1\n",
    "    output = 1\n",
    "    i = 1\n",
    "    j = 0\n",
    "\n",
    "    while i < len(arrival) and j < len(arrival):\n",
    "\n",
    "        if arrival[i] < departure[j]:\n",
    "            platform_count += 1\n",
    "            i += 1\n",
    "\n",
    "            if platform_count > output:\n",
    "                output = platform_count\n",
    "        else:\n",
    "            platform_count -= 1\n",
    "            j += 1\n",
    "\n",
    "    return output"
   ]
  },
  {
   "cell_type": "code",
   "execution_count": 7,
   "metadata": {
    "graffitiCellId": "id_z8cclxx"
   },
   "outputs": [],
   "source": [
    "def test_function(test_case):\n",
    "    arrival = test_case[0]\n",
    "    departure = test_case[1]\n",
    "    solution = test_case[2]\n",
    "    \n",
    "    output = min_platforms(arrival, departure)\n",
    "    print(output)\n",
    "    if output == solution:\n",
    "        print(\"Pass\")\n",
    "    else:\n",
    "        print(\"Fail\")"
   ]
  },
  {
   "cell_type": "code",
   "execution_count": 8,
   "metadata": {
    "graffitiCellId": "id_3y01n63"
   },
   "outputs": [
    {
     "name": "stdout",
     "output_type": "stream",
     "text": [
      "3\n",
      "Pass\n"
     ]
    }
   ],
   "source": [
    "arrival = [900,  940, 950,  1100, 1500, 1800]\n",
    "departure = [910, 1200, 1120, 1130, 1900, 2000]\n",
    "test_case = [arrival, departure, 3]\n",
    "\n",
    "test_function(test_case)"
   ]
  },
  {
   "cell_type": "code",
   "execution_count": 9,
   "metadata": {
    "graffitiCellId": "id_sdzncbd"
   },
   "outputs": [
    {
     "name": "stdout",
     "output_type": "stream",
     "text": [
      "2\n",
      "Pass\n"
     ]
    }
   ],
   "source": [
    "arrival = [200, 210, 300, 320, 350, 500]\n",
    "departure = [230, 340, 320, 430, 400, 520]\n",
    "test_case = [arrival, departure, 2]\n",
    "test_function(test_case)"
   ]
  },
  {
   "cell_type": "code",
   "execution_count": null,
   "metadata": {
    "graffitiCellId": "id_j8udzvu"
   },
   "outputs": [],
   "source": []
  }
 ],
 "metadata": {
  "graffiti": {
   "firstAuthorId": "dev",
   "id": "id_zzreyx5",
   "language": "EN"
  },
  "kernelspec": {
   "display_name": "Python 3",
   "language": "python",
   "name": "python3"
  },
  "language_info": {
   "codemirror_mode": {
    "name": "ipython",
    "version": 3
   },
   "file_extension": ".py",
   "mimetype": "text/x-python",
   "name": "python",
   "nbconvert_exporter": "python",
   "pygments_lexer": "ipython3",
   "version": "3.6.3"
  }
 },
 "nbformat": 4,
 "nbformat_minor": 2
}
