{
 "cells": [
  {
   "cell_type": "markdown",
   "metadata": {
    "graffitiCellId": "id_rxtuffz"
   },
   "source": [
    "# Strings Exercises"
   ]
  },
  {
   "cell_type": "markdown",
   "metadata": {
    "graffitiCellId": "id_zly0vr0"
   },
   "source": [
    "#### Intro "
   ]
  },
  {
   "cell_type": "markdown",
   "metadata": {
    "graffitiCellId": "id_xzj5890"
   },
   "source": [
    "Strings in Python are arrays of bytes representing unicode characters. In this exercise we are going to practice our work with string manipulation. "
   ]
  },
  {
   "cell_type": "markdown",
   "metadata": {
    "graffitiCellId": "id_2061hpl"
   },
   "source": [
    "#### Reverse Strings"
   ]
  },
  {
   "cell_type": "markdown",
   "metadata": {
    "graffitiCellId": "id_9w3bnlc"
   },
   "source": [
    "In this first exercise, the goal is to write a function that takes a string as input and then returns the reversed string.\n",
    "\n",
    "For example, if the input is the string `\"water\"`, then the output should be `\"retaw\"`.\n",
    "\n",
    "While you're working on the function and trying to figure out how to manipulate the string, it may help to use the `print` statement so you can see the effects of whatever you're trying."
   ]
  },
  {
   "cell_type": "code",
   "execution_count": 21,
   "metadata": {
    "graffitiCellId": "id_94vaivn"
   },
   "outputs": [],
   "source": [
    "# Code\n",
    "def string_reverser_arraylike(our_string):\n",
    "    s = list(our_string)\n",
    "    n = len(s)\n",
    "    for i in range(n // 2):\n",
    "        c = s[i]\n",
    "        s[i] = s[n - 1 - i]\n",
    "        s[n - 1 - i] = c\n",
    "    return ''.join(s)    \n",
    "\n",
    "def string_reverser_slice(our_string):\n",
    "    return our_string[::-1]\n",
    "\n",
    "def string_reverser(our_string):\n",
    "\n",
    "    \"\"\"\n",
    "    Reverse the input string\n",
    "\n",
    "    Args:\n",
    "       our_string(string): String to be reversed\n",
    "    Returns:\n",
    "       string: The reversed string\n",
    "    \"\"\"\n",
    "    return string_reverser_slice(our_string)"
   ]
  },
  {
   "cell_type": "code",
   "execution_count": 22,
   "metadata": {
    "graffitiCellId": "id_5a1sq4g"
   },
   "outputs": [
    {
     "name": "stdout",
     "output_type": "stream",
     "text": [
      "Pass\n",
      "Pass\n",
      "Pass\n"
     ]
    }
   ],
   "source": [
    "# Test Cases\n",
    "\n",
    "print (\"Pass\" if ('retaw' == string_reverser('water')) else \"Fail\")\n",
    "print (\"Pass\" if ('!noitalupinam gnirts gnicitcarP' == string_reverser('Practicing string manipulation!')) else \"Fail\")\n",
    "print (\"Pass\" if ('3432 :si edoc esuoh ehT' == string_reverser('The house code is: 2343')) else \"Fail\")"
   ]
  },
  {
   "cell_type": "markdown",
   "metadata": {
    "graffitiCellId": "id_5y1c1sk"
   },
   "source": [
    "<span class=\"graffiti-highlight graffiti-id_5y1c1sk-id_8u3k1ve\"><i></i><button>Show Solution</button></span>"
   ]
  },
  {
   "cell_type": "markdown",
   "metadata": {
    "graffitiCellId": "id_sz1uyhy"
   },
   "source": [
    "#### Anagrams"
   ]
  },
  {
   "cell_type": "markdown",
   "metadata": {
    "graffitiCellId": "id_v8jn802"
   },
   "source": [
    "The goal of this exercise is to write some code to determine if two strings are anagrams of each other.\n",
    "\n",
    "An anagram is a word (or phrase) that is formed by rearranging the letters of another word (or phrase).\n",
    "\n",
    "For example:\n",
    "- \"rat\" is an anagram of \"art\"\n",
    "- \"alert\" is an anagram of \"alter\"\n",
    "- \"Slot machines\" is an anagram of \"Cash lost in me\"\n",
    "\n",
    "Your function should take two strings as input and return `True` if the two words are anagrams and `False` if they are not.\n",
    "\n",
    "You can assume the following about the input strings:\n",
    "- No punctuation\n",
    "- No numbers\n",
    "- No special characters"
   ]
  },
  {
   "cell_type": "code",
   "execution_count": 1,
   "metadata": {
    "graffitiCellId": "id_96z89ik"
   },
   "outputs": [],
   "source": [
    "# Code\n",
    "def normalize_sort(s):\n",
    "    '''return a string with characters sorted'''\n",
    "    chars = list(s.lower())\n",
    "    chars.sort()\n",
    "    return \"\".join(chars).strip(' ')\n",
    "\n",
    "def normalize_sort2(s):\n",
    "    '''return a sorted list of char strings'''\n",
    "    s = s.replace(' ', '').lower()\n",
    "    return sorted(s)\n",
    "\n",
    "def normalize_map(str):\n",
    "    '''return a map of character counts'''\n",
    "    str = str.lower()\n",
    "    sig = {}\n",
    "    for c in str:\n",
    "        if c != ' ':\n",
    "            sig[c] = sig.get(c, 0) + 1\n",
    "    return sig\n",
    "\n",
    "def anagram_checker(str1, str2):\n",
    "\n",
    "    \"\"\"\n",
    "    Check if the input strings are anagrams of each other\n",
    "\n",
    "    Args:\n",
    "       str1(string),str2(string): Strings to be checked\n",
    "    Returns:\n",
    "       bool: Indicates whether strings are anagrams\n",
    "    \"\"\"\n",
    "    \n",
    "    # Need to ignore case and ignore spaces\n",
    "    # Could sort the characters, strip spaces, compare - O(nlogn)\n",
    "    # Could build a character histogram, ignoreing spaces - O(n)\n",
    "\n",
    "    return normalize_sort2(str1) == normalize_sort2(str2)\n",
    "    # return normalize_sort(str1) == normalize_sort(str2)\n",
    "    # return normalize_map(str1) == normalize_map(str2)\n",
    "    "
   ]
  },
  {
   "cell_type": "code",
   "execution_count": 2,
   "metadata": {
    "graffitiCellId": "id_f1eekl6"
   },
   "outputs": [
    {
     "name": "stdout",
     "output_type": "stream",
     "text": [
      "Pass\n",
      "Pass\n",
      "Pass\n",
      "Pass\n",
      "Pass\n"
     ]
    }
   ],
   "source": [
    "# Test Cases\n",
    "\n",
    "print (\"Pass\" if not (anagram_checker('water','waiter')) else \"Fail\")\n",
    "print (\"Pass\" if anagram_checker('Dormitory','Dirty room') else \"Fail\")\n",
    "print (\"Pass\" if anagram_checker('Slot machines', 'Cash lost in me') else \"Fail\")\n",
    "print (\"Pass\" if not (anagram_checker('A gentleman','Elegant men')) else \"Fail\")\n",
    "print (\"Pass\" if anagram_checker('Time and tide wait for no man','Notified madman into water') else \"Fail\")"
   ]
  },
  {
   "cell_type": "markdown",
   "metadata": {
    "graffitiCellId": "id_hnedbqz"
   },
   "source": [
    "<span class=\"graffiti-highlight graffiti-id_hnedbqz-id_0ifjb4r\"><i></i><button>Hide Solution</button></span>"
   ]
  },
  {
   "cell_type": "code",
   "execution_count": null,
   "metadata": {
    "graffitiCellId": "id_0ifjb4r"
   },
   "outputs": [],
   "source": [
    "# Solution\n",
    "\n",
    "def anagram_checker(str1, str2):\n",
    "\n",
    "    \"\"\"\n",
    "    Check if the input strings are anagrams\n",
    "\n",
    "    Args:\n",
    "       str1(string),str2(string): Strings to be checked if they are anagrams\n",
    "    Returns:\n",
    "       bool: If strings are anagrams or not\n",
    "    \"\"\"\n",
    "\n",
    "    if len(str1) != len(str2):\n",
    "        # Clean strings\n",
    "        clean_str_1 = str1.replace(\" \", \"\").lower()\n",
    "        clean_str_2 = str2.replace(\" \", \"\").lower()\n",
    "\n",
    "        if sorted(clean_str_1) == sorted(clean_str_2):\n",
    "            return True\n",
    "\n",
    "    return False\n",
    "\n",
    "\n",
    "print (\"Pass\" if not (anagram_checker('water','waiter')) else \"Fail\")\n",
    "print (\"Pass\" if anagram_checker('Dormitory','Dirty room') else \"Fail\")\n",
    "print (\"Pass\" if anagram_checker('Slot machines', 'Cash lost in me') else \"Fail\")\n",
    "print (\"Pass\" if not (anagram_checker('A gentleman','Elegant men')) else \"Fail\")\n",
    "print (\"Pass\" if anagram_checker('Time and tide wait for no man','Notified madman into water') else \"Fail\")\n"
   ]
  },
  {
   "cell_type": "code",
   "execution_count": null,
   "metadata": {
    "graffitiCellId": "id_srhkxw6"
   },
   "outputs": [],
   "source": []
  },
  {
   "cell_type": "markdown",
   "metadata": {
    "graffitiCellId": "id_tz5wudt"
   },
   "source": [
    "#### Reverse the words in sentence"
   ]
  },
  {
   "cell_type": "markdown",
   "metadata": {
    "graffitiCellId": "id_ggu54in"
   },
   "source": [
    "Given a sentence, reverse each word in the sentence while keeping the order the same!"
   ]
  },
  {
   "cell_type": "code",
   "execution_count": 23,
   "metadata": {
    "graffitiCellId": "id_8datqoy"
   },
   "outputs": [
    {
     "data": {
      "text/plain": [
       "'ruO esuoh si'"
      ]
     },
     "execution_count": 23,
     "metadata": {},
     "output_type": "execute_result"
    }
   ],
   "source": [
    "# Code \n",
    "\n",
    "def word_flipper(our_string):\n",
    "\n",
    "    \"\"\"\n",
    "    Flip the individual words in a sentence\n",
    "\n",
    "    Args:\n",
    "       our_string(string): String with words to flip\n",
    "    Returns:\n",
    "       string: String with words flipped\n",
    "    \"\"\"\n",
    "    \n",
    "    # split the words in the sentence\n",
    "    # reverse each one, then rejoin\n",
    "    # -- or --\n",
    "    # reverse the entire sentence\n",
    "    # split the words, then rejoin in reverse order\n",
    "    w_list = our_string.split(' ')\n",
    "    r_list = [string_reverser(s) for s in w_list]\n",
    "    return ' '.join(r_list)\n",
    "\n",
    "word_flipper('Our house is')"
   ]
  },
  {
   "cell_type": "code",
   "execution_count": 24,
   "metadata": {
    "graffitiCellId": "id_0rpbyd2"
   },
   "outputs": [
    {
     "name": "stdout",
     "output_type": "stream",
     "text": [
      "Pass\n",
      "Pass\n",
      "Pass\n"
     ]
    }
   ],
   "source": [
    "# Test Cases\n",
    "\n",
    "print (\"Pass\" if ('retaw' == word_flipper('water')) else \"Fail\")\n",
    "print (\"Pass\" if ('sihT si na elpmaxe' == word_flipper('This is an example')) else \"Fail\")\n",
    "print (\"Pass\" if ('sihT si eno llams pets rof ...' == word_flipper('This is one small step for ...')) else \"Fail\")"
   ]
  },
  {
   "cell_type": "markdown",
   "metadata": {
    "graffitiCellId": "id_ttzcm4k"
   },
   "source": [
    "<span class=\"graffiti-highlight graffiti-id_ttzcm4k-id_m6frlmt\"><i></i><button>Hide Solution</button></span>"
   ]
  },
  {
   "cell_type": "code",
   "execution_count": null,
   "metadata": {
    "graffitiCellId": "id_m6frlmt"
   },
   "outputs": [],
   "source": [
    "# Solution\n",
    "\n",
    "def word_flipper(our_string):\n",
    "\n",
    "    \"\"\"\n",
    "    Flip the individual words in a sentence\n",
    "\n",
    "    Args:\n",
    "       our_string(string): Strings to have individual words flip\n",
    "    Returns:\n",
    "       string: String with words flipped\n",
    "    \"\"\"\n",
    "\n",
    "    word_list = our_string.split(\" \")\n",
    "\n",
    "    for idx in range(len(word_list)):\n",
    "        word_list[idx] = word_list[idx][::-1]\n",
    "\n",
    "    return \" \".join(word_list)\n",
    "\n",
    "print (\"Pass\" if ('retaw' == word_flipper('water')) else \"Fail\")\n",
    "print (\"Pass\" if ('sihT si na elpmaxe' == word_flipper('This is an example')) else \"Fail\")\n",
    "print (\"Pass\" if ('sihT si eno llams pets rof ...' == word_flipper('This is one small step for ...')) else \"Fail\")\n"
   ]
  },
  {
   "cell_type": "markdown",
   "metadata": {
    "graffitiCellId": "id_4422nbp"
   },
   "source": [
    "#### Hamming Distance"
   ]
  },
  {
   "cell_type": "markdown",
   "metadata": {
    "graffitiCellId": "id_fz4qros"
   },
   "source": [
    "In information theory, the Hamming distance between two strings of equal length is the number of positions at which the corresponding symbols are different. Calculate the Hamming distace for the following test cases."
   ]
  },
  {
   "cell_type": "code",
   "execution_count": 25,
   "metadata": {
    "graffitiCellId": "id_a0xltk3"
   },
   "outputs": [],
   "source": [
    "# Code\n",
    "\n",
    "def hamming_distance(str1, str2):\n",
    "\n",
    "    \"\"\"\n",
    "    Calculate the hamming distance of the two strings\n",
    "\n",
    "    Args:\n",
    "       str1(string),str2(string): Strings to be used for finding the hamming distance\n",
    "    Returns:\n",
    "       int: Hamming Distance\n",
    "    \"\"\"\n",
    "    # return None for strings of different lengths\n",
    "    # index and increment\n",
    "    \n",
    "    if len(str1) != len(str2):\n",
    "        return None\n",
    "\n",
    "    distance = 0\n",
    "    for i in range(len(str1)):\n",
    "        if str1[i] != str2[i]:\n",
    "            distance += 1\n",
    "    return distance\n"
   ]
  },
  {
   "cell_type": "code",
   "execution_count": 26,
   "metadata": {
    "graffitiCellId": "id_9vbn2ol"
   },
   "outputs": [
    {
     "name": "stdout",
     "output_type": "stream",
     "text": [
      "Pass\n",
      "Pass\n",
      "Pass\n",
      "Pass\n",
      "Pass\n"
     ]
    }
   ],
   "source": [
    "# Test Cases\n",
    "\n",
    "print (\"Pass\" if (10 == hamming_distance('ACTTGACCGGG','GATCCGGTACA')) else \"Fail\")\n",
    "print (\"Pass\" if  (1 == hamming_distance('shove','stove')) else \"Fail\")\n",
    "print (\"Pass\" if  (None == hamming_distance('Slot machines', 'Cash lost in me')) else \"Fail\")\n",
    "print (\"Pass\" if  (9 == hamming_distance('A gentleman','Elegant men')) else \"Fail\")\n",
    "print (\"Pass\" if  (2 == hamming_distance('0101010100011101','0101010100010001')) else \"Fail\")"
   ]
  },
  {
   "cell_type": "code",
   "execution_count": null,
   "metadata": {
    "graffitiCellId": "id_u1nzuf0"
   },
   "outputs": [],
   "source": [
    "# Solution\n",
    "\n",
    "def hamming_distance(str1, str2):\n",
    "\n",
    "    \"\"\"\n",
    "    Calculate the hamming distance of the two strings\n",
    "\n",
    "    Args:\n",
    "       str1(string),str2(string): Strings to be used for finding the hamming distance\n",
    "    Returns:\n",
    "       int: Hamming Distance\n",
    "    \"\"\"\n",
    "\n",
    "    if len(str1) == len(str2):\n",
    "        count = 0\n",
    "\n",
    "        for char in range(len(str1)):\n",
    "            if str1[char] != str2[char]:\n",
    "                count+=1\n",
    "\n",
    "        return count\n",
    "\n",
    "    return None\n",
    "\n",
    "\n",
    "\n",
    "print (\"Pass\" if (10 == hamming_distance('ACTTGACCGGG','GATCCGGTACA')) else \"Fail\")\n",
    "print (\"Pass\" if  (1 == hamming_distance('shove','stove')) else \"Fail\")\n",
    "print (\"Pass\" if  (None == hamming_distance('Slot machines', 'Cash lost in me')) else \"Fail\")\n",
    "print (\"Pass\" if  (9 == hamming_distance('A gentleman','Elegant men')) else \"Fail\")\n",
    "print (\"Pass\" if  (2 == hamming_distance('0101010100011101','0101010100010001')) else \"Fail\")\n"
   ]
  },
  {
   "cell_type": "markdown",
   "metadata": {
    "graffitiCellId": "id_uor0wb6"
   },
   "source": [
    "<span class=\"graffiti-highlight graffiti-id_kddwu3s-id_u1nzuf0\"><i></i><button>Show Solution</button></span>"
   ]
  }
 ],
 "metadata": {
  "graffiti": {
   "firstAuthorId": "10694620118",
   "id": "id_cwbhghd",
   "language": "EN"
  },
  "kernelspec": {
   "display_name": "Python [default]",
   "language": "python",
   "name": "python3"
  },
  "language_info": {
   "codemirror_mode": {
    "name": "ipython",
    "version": 3
   },
   "file_extension": ".py",
   "mimetype": "text/x-python",
   "name": "python",
   "nbconvert_exporter": "python",
   "pygments_lexer": "ipython3",
   "version": "3.6.6"
  },
  "widgets": {
   "state": {},
   "version": "1.1.2"
  }
 },
 "nbformat": 4,
 "nbformat_minor": 2
}
