{
 "cells": [
  {
   "cell_type": "markdown",
   "metadata": {},
   "source": [
    "## Problem statement\n",
    "\n",
    "Given the root of a binary tree, find the diameter.\n",
    "\n",
    "*Note: Diameter of a Binary Tree is the maximum distance between any two nodes*"
   ]
  },
  {
   "cell_type": "code",
   "execution_count": 11,
   "metadata": {},
   "outputs": [],
   "source": [
    "class BinaryTreeNode:\n",
    "\n",
    "    def __init__(self, data):\n",
    "        self.left = None\n",
    "        self.right = None\n",
    "        self.data = data\n",
    "        \n",
    "    def __repr__(self):\n",
    "        return 'Node({})'.format(self.data)\n"
   ]
  },
  {
   "cell_type": "code",
   "execution_count": 28,
   "metadata": {},
   "outputs": [],
   "source": [
    "# My solution was here, and clearly I have misunderstood.\n",
    "#\n",
    "# I was thinking the diameter was going to be the width of a level of a tree.\n",
    "# You know. Like a damn diameter. So that would be the distance along a level \n",
    "# from the first used node to the last used node\n",
    "\n",
    "def strip_level(nodes, level):\n",
    "    stripped = [n for n, l in nodes if l == level]\n",
    "    start = 0\n",
    "    for i in range(len(stripped)):\n",
    "        if stripped[i]:\n",
    "            break\n",
    "        start += 1\n",
    "    end = len(stripped) - 1\n",
    "    for j in range(len(stripped) - 1, 0, -1):\n",
    "        if stripped[j]:\n",
    "            break\n",
    "        end -= 1\n",
    "    return stripped[start:end]\n",
    "        \n",
    "\n",
    "def diameter_of_binary_tree_wrong(root):\n",
    "    \"\"\"\n",
    "    \"\"\"\n",
    "    # build a list of the nodes along with their level\n",
    "    level = 1\n",
    "    nodes = [(root, 1)]\n",
    "    pos = 0\n",
    "    while pos < len(nodes):\n",
    "        node, l = nodes[pos]\n",
    "        pos += 1\n",
    "        if node:\n",
    "            nodes.append((node.left, l + 1))\n",
    "            nodes.append((node.right, l + 1))\n",
    "            \n",
    "    # debug\n",
    "    print(nodes)\n",
    "    \n",
    "    max_diameter = 0\n",
    "    level = 1\n",
    "    while True:\n",
    "        level_nodes = strip_level(nodes, level)\n",
    "        # debug\n",
    "        print(level, level_nodes)\n",
    "        if len(level_nodes) < 1:\n",
    "            break\n",
    "        if len(level_nodes) - 1 > max_diameter:\n",
    "            max_diameter = len(level_nodes) - 1\n",
    "        level += 1\n",
    "    \n",
    "    return max_diameter"
   ]
  },
  {
   "cell_type": "code",
   "execution_count": 29,
   "metadata": {},
   "outputs": [],
   "source": [
    "# Second attempt now that I understand the problem\n",
    "#\n",
    "# A path between two nodes means that the two share a common ancestor\n",
    "# So there is some node that is that ancestor for the longest path\n",
    "# And for that node the longest path is the height of the left subtree\n",
    "# + the height of the right subtree. So at the root the longest path\n",
    "# is either through the root or is the longest path somewhere in the left\n",
    "# or the right subtrees.\n",
    "# \n",
    "# so this sounds like a recursive solution\n",
    "\n",
    "def diameter_of_binary_tree_two(root):\n",
    "    return diameter_and_height_of_tree(root)[0]\n",
    "\n",
    "def diameter_and_height_of_tree(root):\n",
    "    '''Return (diameter, height)'''\n",
    "    if not root:\n",
    "        return (0, 0)\n",
    "    \n",
    "    left_d, left_h = diameter_and_height_of_tree(root.left)\n",
    "    right_d, right_h = diameter_and_height_of_tree(root.right)\n",
    "    \n",
    "    height = max(left_h, right_h) + 1\n",
    "    diameter = max(left_d, right_d, left_h + right_h)\n",
    "    return (diameter, height)"
   ]
  },
  {
   "cell_type": "markdown",
   "metadata": {},
   "source": [
    "You can use the following function to test your code with custom test cases. The function `convert_arr_to_binary_tree` takes an array input representing level-order traversal of the binary tree.\n",
    "\n",
    "\n",
    "<img src='./resources/01-binary-tree.png'>\n",
    "\n",
    "The above tree would be represented as `arr = [1, 2, 3, 4, None, 5, None, None, None, None, None]`\n",
    "\n",
    "Notice that the level order traversal of the above tree would be `[1, 2, 3, 4, 5]`. \n",
    "\n",
    "Note the following points about this tree:\n",
    "* `None` represents the lack of a node. For example, `2` only has a left node; therefore, the next node after `4` (in level order) is represented as `None`\n",
    "* Similarly, `3` only has a left node; hence, the next node after `5` (in level order) is represted as `None`.\n",
    "* Also, `4` and `5` don't have any children. Therefore, the spots for their children in level order are represented by four `None` values (for each child of `4` and `5`)."
   ]
  },
  {
   "cell_type": "code",
   "execution_count": 22,
   "metadata": {},
   "outputs": [],
   "source": [
    "from queue import Queue\n",
    "\n",
    "def convert_arr_to_binary_tree(arr):\n",
    "    \"\"\"\n",
    "    Takes arr representing level-order traversal of Binary Tree \n",
    "    \"\"\"\n",
    "    index = 0\n",
    "    length = len(arr)\n",
    "    \n",
    "    if length <= 0 or arr[0] == -1:\n",
    "        return None\n",
    "\n",
    "    root = BinaryTreeNode(arr[index])\n",
    "    index += 1\n",
    "    queue = Queue()\n",
    "    queue.put(root)\n",
    "    \n",
    "    while not queue.empty():\n",
    "        current_node = queue.get()\n",
    "        left_child = arr[index]\n",
    "        index += 1\n",
    "        \n",
    "        if left_child is not None:\n",
    "            left_node = BinaryTreeNode(left_child)\n",
    "            current_node.left = left_node\n",
    "            queue.put(left_node)\n",
    "        \n",
    "        right_child = arr[index]\n",
    "        index += 1\n",
    "        \n",
    "        if right_child is not None:\n",
    "            right_node = BinaryTreeNode(right_child)\n",
    "            current_node.right = right_node\n",
    "            queue.put(right_node)\n",
    "    return root\n",
    "\n",
    "    \n",
    "    "
   ]
  },
  {
   "cell_type": "code",
   "execution_count": 30,
   "metadata": {},
   "outputs": [
    {
     "name": "stdout",
     "output_type": "stream",
     "text": [
      "0\n",
      "2\n",
      "4\n",
      "5\n"
     ]
    }
   ],
   "source": [
    "first = convert_arr_to_binary_tree([1, None, None])\n",
    "print(diameter_of_binary_tree_two(first))\n",
    "\n",
    "second = convert_arr_to_binary_tree([1, 2, 3, None, None, None, None])\n",
    "print(diameter_of_binary_tree_two(second))\n",
    "\n",
    "third = convert_arr_to_binary_tree([1, 2, 3, 4, None, 5, None, None, None, None, None])\n",
    "print(diameter_of_binary_tree_two(third))\n",
    "\n",
    "fourth = convert_arr_to_binary_tree([1, 2, 3, 4, None, 5, 6, None, None, None, 7, None, None, None, None])\n",
    "print(diameter_of_binary_tree_two(fourth))\n"
   ]
  },
  {
   "cell_type": "code",
   "execution_count": 35,
   "metadata": {},
   "outputs": [],
   "source": [
    "# Solution\n",
    "def diameter_of_binary_tree(root):\n",
    "    return diameter_of_binary_tree_func(root)[1]\n",
    "    \n",
    "def diameter_of_binary_tree_func(root):\n",
    "    \"\"\"\n",
    "    Diameter for a particular BinaryTree Node will be:\n",
    "        1. Either diameter of left subtree\n",
    "        2. Or diameter of a right subtree\n",
    "        3. Sum of left-height and right-height\n",
    "    :param root:\n",
    "    :return: [height, diameter]\n",
    "    \"\"\"\n",
    "    if root is None:\n",
    "        return 0, 0\n",
    "\n",
    "    left_height, left_diameter = diameter_of_binary_tree_func(root.left)\n",
    "    right_height, right_diameter = diameter_of_binary_tree_func(root.right)\n",
    "\n",
    "    current_height = max(left_height, right_height) + 1\n",
    "    height_diameter = left_height + right_height\n",
    "    current_diameter = max(left_diameter, right_diameter, height_diameter)\n",
    "\n",
    "    return current_height, current_diameter"
   ]
  },
  {
   "cell_type": "code",
   "execution_count": 38,
   "metadata": {},
   "outputs": [],
   "source": [
    "def test_function(test_case):\n",
    "    arr = test_case[0]\n",
    "    solution = test_case[1]\n",
    "    root = convert_arr_to_binary_tree(arr)\n",
    "    # output = diameter_of_binary_tree(root)\n",
    "    output = diameter_of_binary_tree_two(root)\n",
    "    print(output)\n",
    "    if output == solution:\n",
    "        print(\"Pass\")\n",
    "    else:\n",
    "        print(\"Fail\")"
   ]
  },
  {
   "cell_type": "code",
   "execution_count": 39,
   "metadata": {},
   "outputs": [
    {
     "name": "stdout",
     "output_type": "stream",
     "text": [
      "3\n",
      "Pass\n"
     ]
    }
   ],
   "source": [
    "arr = [1, 2, 3, 4, 5, None, None, None, None, None, None]\n",
    "solution = 3\n",
    "\n",
    "test_case = [arr, solution]\n",
    "test_function(test_case)"
   ]
  },
  {
   "cell_type": "code",
   "execution_count": 40,
   "metadata": {},
   "outputs": [
    {
     "name": "stdout",
     "output_type": "stream",
     "text": [
      "4\n",
      "Pass\n"
     ]
    }
   ],
   "source": [
    "arr = [1, 2, 3, 4, None, 5, None, None, None, None, None]\n",
    "solution = 4\n",
    "\n",
    "test_case = [arr, solution]\n",
    "test_function(test_case)"
   ]
  },
  {
   "cell_type": "code",
   "execution_count": 41,
   "metadata": {},
   "outputs": [
    {
     "name": "stdout",
     "output_type": "stream",
     "text": [
      "6\n",
      "Pass\n"
     ]
    }
   ],
   "source": [
    "arr = [1, 2, 3, None, None, 4, 5, 6, None, 7, 8, 9, 10, None, None, None, None, None, None, 11, None, None, None]\n",
    "solution = 6\n",
    "\n",
    "test_case = [arr, solution]\n",
    "test_function(test_case)"
   ]
  },
  {
   "cell_type": "code",
   "execution_count": null,
   "metadata": {},
   "outputs": [],
   "source": []
  },
  {
   "cell_type": "code",
   "execution_count": null,
   "metadata": {},
   "outputs": [],
   "source": []
  }
 ],
 "metadata": {
  "kernelspec": {
   "display_name": "Python 3",
   "language": "python",
   "name": "python3"
  },
  "language_info": {
   "codemirror_mode": {
    "name": "ipython",
    "version": 3
   },
   "file_extension": ".py",
   "mimetype": "text/x-python",
   "name": "python",
   "nbconvert_exporter": "python",
   "pygments_lexer": "ipython3",
   "version": "3.6.3"
  }
 },
 "nbformat": 4,
 "nbformat_minor": 2
}
