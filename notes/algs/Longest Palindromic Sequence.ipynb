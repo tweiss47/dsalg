{
 "cells": [
  {
   "cell_type": "markdown",
   "metadata": {
    "graffitiCellId": "id_m5u9j4m"
   },
   "source": [
    "# Longest Palindromic Subsequence\n",
    "\n",
    "In this notebook, you'll be tasked with finding the length of the *Longest Palindromic Subsequence* (LPS) given a string of characters.\n",
    "\n",
    "As an example:\n",
    "* With an input string, `ABBDBCACB`\n",
    "* The LPS is `BCACB`, which has `length = 5`\n",
    "\n",
    "In this notebook, we'll focus on finding an optimal solution to the LPS task, using dynamic programming. There will be some similarities to the Longest Common Subsequence (LCS) task, which is outlined in detail in a previous notebook. It is recommended that you start with that notebook before trying out this task.\n",
    "\n",
    "### Hint\n",
    "**Storing pre-computed values**\n",
    "\n",
    "The LPS algorithm depends on looking at one string and comparing letters to one another. Similar to how you compared two strings in the LCS (Longest Common Subsequence) task, you can compare the characters in just *one* string with one another, using a matrix to store the results of matching characters.\n",
    "\n",
    "\n",
    "For a string on length n characters, you can create an `n x n` matrix to store the solution to subproblems. In this case, the subproblem is the length of the longest palindromic subsequence, up to a certain point in the string (up to the end of a certain substring).\n",
    "\n",
    "It may be helpful to try filling up a matrix on paper before you start your code solution. If you get stuck with this task, you may look at some example matrices below (see the section titled **Example matrices**), before consulting the complete solution code.\n"
   ]
  },
  {
   "cell_type": "markdown",
   "metadata": {
    "graffitiCellId": "id_nuxnidq"
   },
   "source": [
    "### A subsequence is not the same as a substring\n",
    "\n",
    "There aren't any examples that show the difference, but the original LCS problem did spell it out more clearly. A substring requires that the characters appear *consecutively* in order. But a subsequence the characters just have to appear in order. So there can be gaps in a sequence but not in a substring.\n",
    "\n",
    "For example `'BANANB'` is has two palindromic substrings of length 3: `'ANA'` and `'NAN'`. But the longest subsequence would be 5. Either `'BANAB'` or `'BNANB'`.\n"
   ]
  },
  {
   "cell_type": "code",
   "execution_count": 82,
   "metadata": {
    "graffitiCellId": "id_ndmrxzm"
   },
   "outputs": [],
   "source": [
    "def lp_substring(s):\n",
    "    def is_palindrome(start, end):\n",
    "        while start <= end:\n",
    "            if s[start] != s[end]:\n",
    "                return False\n",
    "            start += 1\n",
    "            end -= 1\n",
    "        return True\n",
    "    largest = 0\n",
    "    for i in range(len(s)):\n",
    "        for j in range(i):\n",
    "            if is_palindrome(j, i):\n",
    "                if i - j + 1 > largest:\n",
    "                    largest = i - j + 1\n",
    "                break\n",
    "    return largest"
   ]
  },
  {
   "cell_type": "code",
   "execution_count": 109,
   "metadata": {
    "graffitiCellId": "id_9q9mdsl"
   },
   "outputs": [
    {
     "data": {
      "text/plain": [
       "4"
      ]
     },
     "execution_count": 109,
     "metadata": {},
     "output_type": "execute_result"
    }
   ],
   "source": [
    "def lp_subsequence(s):\n",
    "    \n",
    "    # create a lookup table\n",
    "    n = len(s)\n",
    "    lookup = [[0 for _ in range(n)] for _ in range(n)]\n",
    "    for i in range(n):\n",
    "        lookup[i][i] = 1\n",
    "        \n",
    "    for i in range(1, n):\n",
    "        for j in range(i - 1, -1, -1):\n",
    "            if s[i] == s[j]:\n",
    "                lookup[j][i] = lookup[j + 1][i - 1] + 2\n",
    "            else:\n",
    "                lookup[j][i] = max(lookup[j][i - 1], lookup[j + 1][i])\n",
    "                \n",
    "    return lookup[0][n-1]\n",
    "    \n",
    "lp_subsequence('ABBA')"
   ]
  },
  {
   "cell_type": "code",
   "execution_count": 90,
   "metadata": {
    "graffitiCellId": "id_m2kla9e"
   },
   "outputs": [],
   "source": [
    "def lps(input_string): \n",
    "    # TODO: Complete this implementation of the LPS function\n",
    "    # The function should return one value: the LPS length for the given input string\n",
    "    return lp_subsequence(input_string)\n"
   ]
  },
  {
   "cell_type": "code",
   "execution_count": 75,
   "metadata": {
    "graffitiCellId": "id_zrl045w"
   },
   "outputs": [],
   "source": [
    "def test_function(test_case):\n",
    "    string = test_case[0]\n",
    "    solution = test_case[1]\n",
    "    output = lps(string)\n",
    "    print(output)\n",
    "    if output == solution:\n",
    "        print(\"Pass\")\n",
    "    else:\n",
    "        print(\"Fail\")"
   ]
  },
  {
   "cell_type": "code",
   "execution_count": 102,
   "metadata": {
    "graffitiCellId": "id_cqnb288"
   },
   "outputs": [
    {
     "name": "stdout",
     "output_type": "stream",
     "text": [
      "7\n",
      "Pass\n"
     ]
    }
   ],
   "source": [
    "string = \"TACOCAT\"\n",
    "solution = 7\n",
    "test_case = [string, solution]\n",
    "test_function(test_case)"
   ]
  },
  {
   "cell_type": "code",
   "execution_count": 103,
   "metadata": {
    "graffitiCellId": "id_qwckonz"
   },
   "outputs": [
    {
     "name": "stdout",
     "output_type": "stream",
     "text": [
      "5\n",
      "Pass\n"
     ]
    }
   ],
   "source": [
    "string = 'BANANA'\n",
    "solution = 5\n",
    "test_case = [string, solution]\n",
    "test_function(test_case)"
   ]
  },
  {
   "cell_type": "code",
   "execution_count": 104,
   "metadata": {
    "graffitiCellId": "id_pgp7moi"
   },
   "outputs": [
    {
     "name": "stdout",
     "output_type": "stream",
     "text": [
      "3\n",
      "Pass\n"
     ]
    }
   ],
   "source": [
    "string = 'BANANO'\n",
    "solution = 3\n",
    "test_case = [string, solution]\n",
    "test_function(test_case)"
   ]
  },
  {
   "cell_type": "code",
   "execution_count": 105,
   "metadata": {
    "graffitiCellId": "id_za8qveo"
   },
   "outputs": [
    {
     "name": "stdout",
     "output_type": "stream",
     "text": [
      "5\n",
      "Pass\n"
     ]
    }
   ],
   "source": [
    "string = 'BANANB'\n",
    "solution = 5\n",
    "test_case = [string, solution]\n",
    "test_function(test_case)"
   ]
  },
  {
   "cell_type": "code",
   "execution_count": 106,
   "metadata": {
    "graffitiCellId": "id_2xowjvd"
   },
   "outputs": [
    {
     "name": "stdout",
     "output_type": "stream",
     "text": [
      "7\n",
      "Pass\n"
     ]
    }
   ],
   "source": [
    "# The provided solution fails here - actually not!\n",
    "string = 'ANNNANANA'\n",
    "solution = 7\n",
    "test_case = [string, solution]\n",
    "test_function(test_case)"
   ]
  },
  {
   "cell_type": "code",
   "execution_count": 107,
   "metadata": {
    "graffitiCellId": "id_2ngnmzc"
   },
   "outputs": [
    {
     "name": "stdout",
     "output_type": "stream",
     "text": [
      "6\n",
      "Pass\n"
     ]
    }
   ],
   "source": [
    "# The provided solution fails here\n",
    "string = 'ANNNANA'\n",
    "solution = 6\n",
    "test_case = [string, solution]\n",
    "test_function(test_case)"
   ]
  },
  {
   "cell_type": "markdown",
   "metadata": {
    "collapsed": true,
    "graffitiCellId": "id_muz0nks"
   },
   "source": [
    "### Example matrices\n",
    "\n",
    "Example LPS Subproblem matrix 1:\n",
    "\n",
    "```\n",
    "input_string = 'BANANO'\n",
    "\n",
    "LPS subproblem matrix:\n",
    "  \n",
    "     B  A  N  A  N  O\n",
    "B  [[1, 1, 1, 3, 3, 3],\n",
    "A   [0, 1, 1, 3, 3, 3],\n",
    "N   [0, 0, 1, 1, 3, 3],\n",
    "A   [0, 0, 0, 1, 1, 1],\n",
    "N   [0, 0, 0, 0, 1, 1],\n",
    "O   [0, 0, 0, 0, 0, 1]]\n",
    "\n",
    "LPS length:  3\n",
    "```\n",
    "\n",
    "Example LPS Subproblem matrix 2:\n",
    "```\n",
    "input_string = 'TACOCAT'\n",
    "\n",
    "LPS subproblem matrix:\n",
    "\n",
    "     T  A  C  O  C  A  T\n",
    "T  [[1, 1, 1, 1, 3, 5, 7],\n",
    "A   [0, 1, 1, 1, 3, 5, 5],\n",
    "C   [0, 0, 1, 1, 3, 3, 3],\n",
    "O   [0, 0, 0, 1, 1, 1, 1],\n",
    "C   [0, 0, 0, 0, 1, 1, 1],\n",
    "A   [0, 0, 0, 0, 0, 1, 1],\n",
    "T   [0, 0, 0, 0, 0, 0, 1]]\n",
    "\n",
    "LPS length:  7\n",
    "```\n",
    "\n",
    "Note: The lower diagonal values will remain 0 in all cases.\n",
    "\n",
    "### The matrix rules\n",
    "\n",
    "You can efficiently fill up this matrix one cell at a time. Each grid cell only depends on the values in the grid cells that are directly on bottom and to the left of it, or on the diagonal/bottom-left. The rules are as follows:\n",
    "* Start with an `n x n ` matrix where n is the number of characters in a given string; the diagonal should all have the value 1 for the base case, the rest can be zeros.\n",
    "* As you traverse your string:\n",
    "    * If there is a match, fill that grid cell with the value to the bottom-left of that cell *plus* two.\n",
    "    * If there is not a match, take the *maximum* value from either directly to the left or the bottom cell, and carry that value over to the non-match cell.\n",
    "* After completely filling the matrix, **the top-right cell will hold the final LPS length**."
   ]
  },
  {
   "cell_type": "markdown",
   "metadata": {
    "graffitiCellId": "id_d28fhk7"
   },
   "source": [
    "<span class=\"graffiti-highlight graffiti-id_d28fhk7-id_3yrlf09\"><i></i><button>Hide Solution</button></span>"
   ]
  },
  {
   "cell_type": "code",
   "execution_count": 101,
   "metadata": {
    "graffitiCellId": "id_3yrlf09"
   },
   "outputs": [],
   "source": [
    "## Solution\n",
    "\n",
    "# imports for printing a matrix, nicely\n",
    "import pprint\n",
    "pp = pprint.PrettyPrinter()\n",
    "\n",
    "# complete LPS solution\n",
    "def lps(input_string): \n",
    "    n = len(input_string) \n",
    "  \n",
    "    # create a lookup table to store results of subproblems \n",
    "    L = [[0 for x in range(n)] for x in range(n)] \n",
    "  \n",
    "    # strings of length 1 have LPS length = 1\n",
    "    for i in range(n): \n",
    "        L[i][i] = 1 \n",
    "    \n",
    "    # consider all substrings\n",
    "    for s_size in range(2, n+1): \n",
    "        for start_idx in range(n-s_size+1): \n",
    "            end_idx = start_idx + s_size - 1\n",
    "            if s_size == 2 and input_string[start_idx] == input_string[end_idx]:\n",
    "                # match with a substring of length 2\n",
    "                L[start_idx][end_idx] = 2\n",
    "            elif input_string[start_idx] == input_string[end_idx]: \n",
    "                # general match case\n",
    "                L[start_idx][end_idx] = L[start_idx+1][end_idx-1] + 2\n",
    "            else:\n",
    "                # no match case, taking the max of two values\n",
    "                L[start_idx][end_idx] = max(L[start_idx][end_idx-1], L[start_idx+1][end_idx]); \n",
    "  \n",
    "    # debug line\n",
    "    # pp.pprint(L)\n",
    "    \n",
    "    return L[0][n-1] # value in top right corner of matrix"
   ]
  },
  {
   "cell_type": "markdown",
   "metadata": {
    "collapsed": true,
    "graffitiCellId": "id_ovo1t4d"
   },
   "source": [
    "### Complexity\n",
    "\n",
    "What was the complexity of this?\n",
    "\n",
    "In the solution, we are looping over the elements of our `input_string` using two `for` loops; these are each of $O(N)$ and nested this becomes $O(N^2)$. This behavior dominates our optimized solution."
   ]
  }
 ],
 "metadata": {
  "graffiti": {
   "firstAuthorId": "10694620118",
   "id": "id_w5rg0wc",
   "language": "EN"
  },
  "kernelspec": {
   "display_name": "Python 3",
   "language": "python",
   "name": "python3"
  },
  "language_info": {
   "codemirror_mode": {
    "name": "ipython",
    "version": 3
   },
   "file_extension": ".py",
   "mimetype": "text/x-python",
   "name": "python",
   "nbconvert_exporter": "python",
   "pygments_lexer": "ipython3",
   "version": "3.6.3"
  }
 },
 "nbformat": 4,
 "nbformat_minor": 2
}
